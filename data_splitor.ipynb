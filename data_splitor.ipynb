{
 "cells": [
  {
   "cell_type": "code",
   "execution_count": 6,
   "id": "5a745bb9",
   "metadata": {},
   "outputs": [],
   "source": [
    "import os\n",
    "import torch\n",
    "from torch import nn\n",
    "from torch.utils.data import DataLoader, Dataset, random_split\n",
    "from torchvision import models, io\n",
    "from annotations import getLabels as getAnnotations\n",
    "import numpy as np\n",
    "from matplotlib import pyplot as plt\n",
    "import cv2\n",
    "import json\n",
    "import utils"
   ]
  },
  {
   "cell_type": "code",
   "execution_count": 7,
   "id": "8508aa95",
   "metadata": {},
   "outputs": [],
   "source": [
    "train_size = 0.7"
   ]
  },
  {
   "cell_type": "code",
   "execution_count": 8,
   "id": "424db467",
   "metadata": {},
   "outputs": [],
   "source": [
    "class AnnotationDataset(Dataset):\n",
    "    def __init__(self, annotations_file=utils.annotations_dir + \"annotations.xml\", \n",
    "                 img_dir=utils.img_dir):\n",
    "        self.img_dir = img_dir\n",
    "        self.annotations_file = annotations_file\n",
    "        self.annotations = utils.getAnnotations(annotations_file)\n",
    "        \n",
    "    def __len__(self):\n",
    "        return len(self.annotations)\n",
    "\n",
    "    def __getitem__(self, idx):\n",
    "        return self.annotations[idx], None"
   ]
  },
  {
   "cell_type": "code",
   "execution_count": 9,
   "id": "68ab28b5",
   "metadata": {},
   "outputs": [],
   "source": [
    "dataset = AnnotationDataset()\n",
    "train_size = int(train_size*len(dataset))\n",
    "test_size = len(dataset) - train_size\n",
    "train_data, test_data = random_split(dataset, [train_size, test_size])"
   ]
  },
  {
   "cell_type": "code",
   "execution_count": 10,
   "id": "d180c7ee",
   "metadata": {},
   "outputs": [],
   "source": [
    "train_set = []\n",
    "test_set = []\n",
    "for (annotation, y) in train_data:\n",
    "    train_set.append(annotation)\n",
    "for (annotation, y) in test_data:\n",
    "    test_set.append(annotation)\n",
    "f = open(utils.annotations_dir + 'train_set.json', 'w')\n",
    "f.write(json.dumps(train_set))\n",
    "f.close()\n",
    "f = open(utils.annotations_dir + 'test_set.json', 'w')\n",
    "f.write(json.dumps(test_set))\n",
    "f.close()"
   ]
  },
  {
   "cell_type": "code",
   "execution_count": null,
   "id": "4c8fc4ec",
   "metadata": {},
   "outputs": [],
   "source": []
  }
 ],
 "metadata": {
  "kernelspec": {
   "display_name": "Python 3 (ipykernel)",
   "language": "python",
   "name": "python3"
  },
  "language_info": {
   "codemirror_mode": {
    "name": "ipython",
    "version": 3
   },
   "file_extension": ".py",
   "mimetype": "text/x-python",
   "name": "python",
   "nbconvert_exporter": "python",
   "pygments_lexer": "ipython3",
   "version": "3.7.11"
  }
 },
 "nbformat": 4,
 "nbformat_minor": 5
}
